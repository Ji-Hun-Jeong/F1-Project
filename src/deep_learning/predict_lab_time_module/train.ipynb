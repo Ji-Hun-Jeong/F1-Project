{
  "cells": [
    {
      "cell_type": "code",
      "execution_count": null,
      "id": "3c8b21ab",
      "metadata": {
        "gather": {
          "logged": 1753626946554
        }
      },
      "outputs": [],
      "source": [
        "%load_ext autoreload\n",
        "%autoreload 2\n",
        "from Users.project.predict_lab_time_module.predict_lap_time import PredictLapTime\n",
        "from Users.project.data_container.data_container import AzureStorageAccess, FolderAccess\n",
        "from Users.project.train_process import model_predictor\n",
        "from Users.project.train_process.data_state import DataFeaturing, IDatasetCreator\n",
        "from Users.project.train_process.file_name_storage import FileNameStorage\n",
        "from Users.project.train_process.loss_func import ILossFunc, MSELoss\n",
        "from Users.project.train_process.model import ImprovedNN, Model\n",
        "from Users.project.train_process.model_loader import ModelLoader\n",
        "from Users.project.train_process.model_predictor import IModelPredictor, MyModelPredictor\n",
        "from Users.project.train_process.model_storage import ModelStorage\n",
        "from Users.project.train_process.model_trainer import IModelTrainer, MyModelTrainer\n",
        "from Users.project.train_process.my_utils import extract_track_from_path, get_real_track_name\n",
        "from Users.project.train_process.optimizer import AdamOptimizer\n",
        "from Users.project.train_process.process_unit import ProcessUnit\n",
        "from Users.project.predict_lab_time_module.create_lap_time_dataset import LapTimePredictDatasetCreator, EFeatureType\n",
        "import torch\n",
        "\n",
        "device = torch.device(\"cuda\" if torch.cuda.is_available() else \"cpu\")\n",
        "#print(device)\n",
        "\n",
        "# predict_lap_time_module = PredictLapTime(device)\n",
        "# predict_lap_time_module.train()\n",
        "# predict_lap_time_module.decide_greatest_model()\n",
        "# predict_lap_time_module.save_all_track_greatest_models()\n",
        "data_access = AzureStorageAccess()\n",
        "featuring = DataFeaturing()\n",
        "dataset_creator = LapTimePredictDatasetCreator()"
      ]
    },
    {
      "cell_type": "code",
      "execution_count": null,
      "id": "a31bdeab",
      "metadata": {},
      "outputs": [],
      "source": [
        "%load_ext autoreload\n",
        "%autoreload 2\n",
        "\n",
        "\n",
        "data_frame = data_access.read_csv_by_data_frame(\"2024/2024_Miami_Grand_Prix_Q/MAG/car_data_all.csv\")\n",
        "x_data, y_data = dataset_creator.create_dataset_from_dataframe(data_frame, featuring)\n",
        "print(x_data)"
      ]
    },
    {
      "cell_type": "code",
      "execution_count": null,
      "id": "cd1b9e30",
      "metadata": {},
      "outputs": [],
      "source": [
        "folder_path = \"./Users/project/log/\"\n"
      ]
    },
    {
      "cell_type": "code",
      "execution_count": 9,
      "id": "5f72398f",
      "metadata": {},
      "outputs": [
        {
          "name": "stdout",
          "output_type": "stream",
          "text": [
            "ILO\n"
          ]
        }
      ],
      "source": [
        "import json\n",
        "path = \"./Users/project/file_format/\"\n",
        "# JSON 파일 열기\n",
        "with open(path + 'format.json', 'r', encoding='utf-8') as file:\n",
        "    data = json.load(file)\n",
        "\n",
        "# 팀 리스트 출력\n",
        "print(data[\"Team\"][3])"
      ]
    },
    {
      "cell_type": "code",
      "execution_count": null,
      "id": "137d7b3d",
      "metadata": {},
      "outputs": [],
      "source": [
        "%load_ext autoreload\n",
        "%autoreload 2\n",
        "import os\n",
        "\n",
        "folder_path = \"./Users/project/log/\"\n",
        "for file in data_access.get_all_file():\n",
        "    file_name = file.name\n",
        "    if \"car_data_all.csv\" not in file_name:\n",
        "        continue\n",
        "    if \"Pre-Season\" in file_name:\n",
        "        continue\n",
        "    track_name = extract_track_from_path(file_name)\n",
        "    track_name = get_real_track_name(track_name)\n",
        "    track_folder_path = folder_path + track_name\n",
        "    \n",
        "    if not os.path.exists(track_folder_path):\n",
        "        print(file_name)\n",
        "        os.mkdir(track_folder_path)"
      ]
    }
  ],
  "metadata": {
    "kernel_info": {
      "name": "python38-azureml"
    },
    "kernelspec": {
      "display_name": "Python 3 (ipykernel)",
      "language": "python",
      "name": "python3"
    },
    "language_info": {
      "codemirror_mode": {
        "name": "ipython",
        "version": 3
      },
      "file_extension": ".py",
      "mimetype": "text/x-python",
      "name": "python",
      "nbconvert_exporter": "python",
      "pygments_lexer": "ipython3",
      "version": "3.10.16"
    },
    "nteract": {
      "version": "nteract-front-end@1.0.0"
    }
  },
  "nbformat": 4,
  "nbformat_minor": 5
}
